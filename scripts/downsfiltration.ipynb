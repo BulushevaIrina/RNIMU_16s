{
 "cells": [
  {
   "cell_type": "code",
   "execution_count": 1,
   "metadata": {},
   "outputs": [],
   "source": [
    "from itertools import islice\n",
    "\n",
    "#https://stackoverflow.com/questions/5832856/how-to-read-file-n-lines-at-a-time-in-python\n",
    "file='small_file.fastq'"
   ]
  },
  {
   "cell_type": "code",
   "execution_count": 2,
   "metadata": {},
   "outputs": [
    {
     "data": {
      "text/plain": [
       "16"
      ]
     },
     "execution_count": 2,
     "metadata": {},
     "output_type": "execute_result"
    }
   ],
   "source": [
    "len(file)"
   ]
  },
  {
   "cell_type": "code",
   "execution_count": 3,
   "metadata": {},
   "outputs": [
    {
     "name": "stdout",
     "output_type": "stream",
     "text": [
      "9\n",
      "NUM 0\n",
      "<itertools.islice object at 0x7f439bf51278>\n",
      "@v300041909_run25L4C001R0020000098/1\n",
      "\n",
      "AGTATGTCGTGCCAGCAGCCGCGGTAATACGTAGGTGGCAAGCGTTATCCGGATTTATTGGGCGTAAAGAGAGTGCAGGCGGTTTTCTAAGTCTGATGTGGAAGCCTTCGGCTTAACCGGGGAAGGGCATCGGAAACTGGATAACTTGGG\n",
      "\n",
      "+\n",
      "\n",
      "NUM 1\n",
      "<itertools.islice object at 0x7f439bf51bd8>\n",
      "GEDGCCGFGFF<FFFFFFDFEAFFEBFGGFF@DFEFFDFFFGFGEE<F;GFF>>FF9?FFFCFFEGFFGEF;GCFFEFDF@F<CFFFFFFFFFGB.EGEF=EFGEFBEFB&EFFFCEFDDEFEAF=GDFE?FF=E<D@FF0FAFGGFE'F\n",
      "\n",
      "@v300041909_run25L4C001R0020001208/1\n",
      "\n",
      "GTCTTATGGTGCCAGCCGCCGCGGTAATACGTAGGTGGCAAGCGTTATCCGGATTTATTGGGCGTAAAGAGAGTGCAGGCGGTTTTCTAAGTCTGATGTGAAAGCCTTCGGCTTAACCGGAGAAGTGCATCGGAAACTGGATAACTTGGG\n",
      "\n",
      "NUM 2\n",
      "<itertools.islice object at 0x7f439bf51278>\n",
      "+\n",
      "\n",
      "GFGGFFGGGFEFFFFGDFGFDGGFFCGBGGGFGEG*FFFFFGCF?GFFFGFF=FFFGFGG:FFFAGAFFFF<F5FGFFGGFF;FFFGF=FFFFFF1FCFFEFCFFGFCF@FFFGFEFG>:CGE+F,FFEG<CB3E3F?BF3F5GF=GF(F\n",
      "\n",
      "@v300041909_run25L4C001R0020002938/1\n",
      "\n",
      "NUM 3\n",
      "<itertools.islice object at 0x7f439bf51bd8>\n",
      "ACCACAATGTGCCAGCCGCCGCGGTAATACGTAGGTGGCAAGCGTTATCCGGATTTATTGGGCGTAAAGAGAGTGCAGGCGGTTTTCTAAGTCTGATGTGAAAGCCTTCGGCTTAACCGGAGAAGTGCATCGGAAACTGGATAACTTGAG\n",
      "\n",
      "+\n",
      "\n",
      "FF@F?FFGFFFFFDFFFCFGFFGFFFFFFF>EFF<:GDFFFFFF@EGGFGFF9FFFFFFFFFFDCFFFGEF:E>@F;FF>FGD?F>GF>FF3GBF/FGDF*FFF9GCBE55FFEB7FFBF6G;<F;FFFFDFD=FF:9DF=DFG=GFE?B\n",
      "\n",
      "NUM 4\n",
      "<itertools.islice object at 0x7f439bf51278>\n",
      "@v300041909_run25L4C001R0020002440/1\n",
      "\n",
      "GACGTGCCGTGCCAGCAGCCGCGGTAATACGTAGGTGGCAAGCGTTATCCGGATTTATTGGGCGTAAAGAGAGTGCAGGCGGTTTTCTAAGTCTGTTGTGAAAGCCTTCGGCTTAACCGGGGAAGTGCATCGGAAACTGGTTAACTTGAG\n",
      "\n",
      "+\n",
      "\n",
      "NUM 5\n",
      "<itertools.islice object at 0x7f439bf51bd8>\n",
      "FF@F?FFGFFFFFDFFFCFGFFGFFFFFFF>EFF<:GDFFFFFF@EGGFGFF9FFFFFFFFFFDCFFFGEF:E>@F;FF>FGD?F>GF>FF3GBF/FGDF*FFF9GCBE55FFEB7FFBF6G;<F;FFFFDFD=FF:9DF=DFG=GFE?B\n",
      "\n",
      "@v300041909_run25L4C001R0020006834/1\n",
      "\n",
      "CATGTACTGTGCCAGCAGCCGCGGTAATACGTAGGTGGCAAGCGTTATCCGGATTTATTGGGCGTAAAGAGAGTGCAGGCGGTTTTCTAAGTCTGATGTGAAAGCCTTCGGCTTAACCGGAGAAGTGCATCGGAAACTGGATAACTTGAG\n",
      "\n",
      "NUM 6\n",
      "<itertools.islice object at 0x7f439bf51278>\n",
      "NUM 7\n",
      "<itertools.islice object at 0x7f439bf518b8>\n",
      "NUM 8\n",
      "<itertools.islice object at 0x7f439bf51278>\n"
     ]
    }
   ],
   "source": [
    "#https://stackoverflow.com/questions/5832856/how-to-read-file-n-lines-at-a-time-in-python\n",
    "file='small_file.fastq'\n",
    "len_file=40\n",
    "print(int(len_file//4)-1)\n",
    "with open(file, 'r') as infile:\n",
    "    for i in range (0,int(len_file//4)-1):\n",
    "        print('NUM',i)\n",
    "        lines_gen = islice(infile, i*4, i*4+3)\n",
    "        print(lines_gen)\n",
    "        for line in lines_gen:\n",
    "            print (line)\n"
   ]
  },
  {
   "cell_type": "code",
   "execution_count": 4,
   "metadata": {},
   "outputs": [
    {
     "name": "stdout",
     "output_type": "stream",
     "text": [
      "seqtk sample -s100 /home/irinab/Desktop/16s/downsampling/127_0,2ng/v300056283_run32_L04_127_1.fq.gz 400000 > /home/irinab/Desktop/16s/downsampling/127_0,2ng/v300056283_run32_L04_127_1_400000_reads.fq\n",
      "seqtk sample -s100 /home/irinab/Desktop/16s/downsampling/127_0,2ng/v300056283_run32_L04_127_2.fq.gz 400000 > /home/irinab/Desktop/16s/downsampling/127_0,2ng/v300056283_run32_L04_127_2_400000_reads.fq\n"
     ]
    }
   ],
   "source": [
    "#DOWNSAMPLING\n",
    "\n",
    "#input1 = '/home/irinab/Desktop/16s/downsampling/125_5ng/v300056283_run32_L04_125_1.fq.gz'\n",
    "#input2 = '/home/irinab/Desktop/16s/downsampling/125_5ng/v300056283_run32_L04_125_2.fq.gz'\n",
    "\n",
    "#input1 = '/home/irinab/Desktop/16s/downsampling/126_1ng/v300056283_run32_L04_126_1.fq.gz'\n",
    "#input2 = '/home/irinab/Desktop/16s/downsampling/126_1ng/v300056283_run32_L04_126_2.fq.gz'\n",
    "\n",
    "input1 = '/home/irinab/Desktop/16s/downsampling/127_0,2ng/v300056283_run32_L04_127_1.fq.gz'\n",
    "input2 = '/home/irinab/Desktop/16s/downsampling/127_0,2ng/v300056283_run32_L04_127_2.fq.gz'\n",
    "\n",
    "#input1 = '/home/irinab/Desktop/16s/downsampling/128_NTC/v300056283_run32_L04_128_1.fq.gz'\n",
    "#input2 = '/home/irinab/Desktop/16s/downsampling/128_NTC/v300056283_run32_L04_128_2.fq.gz'\n",
    "\n",
    "\n",
    "number_of_reads=400000\n",
    "\n",
    "output1=input1[:-6]+'_'+str(number_of_reads)+'_reads.fq'\n",
    "output2=input2[:-6]+'_'+str(number_of_reads)+'_reads.fq'\n",
    "\n",
    "print('seqtk sample -s100',input1,number_of_reads,'>', output1)\n",
    "print('seqtk sample -s100',input2,number_of_reads,'>', output2)"
   ]
  },
  {
   "cell_type": "code",
   "execution_count": 88,
   "metadata": {},
   "outputs": [],
   "source": [
    "#FILTRATION\n",
    "\n",
    "#поиск праймера 1\n",
    "def primer_mism_1(read1):\n",
    "    #print(len(read1))\n",
    "    pr1='GTGYCAGCMGCCGCGGTAA'\n",
    "    mism=-2\n",
    "    for i in range (0,19):\n",
    "        if read1[i]!=pr1[i]:\n",
    "            mism+=1\n",
    "    #print(mism)\n",
    "    if not (read1[3]=='T' or read1[3]=='C'):\n",
    "        mism+=1\n",
    "    if not (read1[8]=='A' or read1[3]=='C'):\n",
    "        mism+=1  \n",
    "    #print(read1,mism)\n",
    "    return mism\n",
    "        #print (i)\n",
    "    \n",
    "#поиск праймера 2\n",
    "def primer_mism_2(read2):\n",
    "    pr2='GGACTACNVGGGTWTCTAAT'\n",
    "    mism=-3\n",
    "    for i in range (0,20):\n",
    "        if read2[i]!=pr2[i]:\n",
    "            mism+=1\n",
    "    #print(mism)\n",
    "    if read2[8]=='T':\n",
    "        mism+=1\n",
    "    if not (read2[13]=='A' or read2[13]=='T'):\n",
    "        mism+=1  \n",
    "    #print(read1,mism)\n",
    "    return mism\n",
    "        #print (i)"
   ]
  },
  {
   "cell_type": "code",
   "execution_count": 89,
   "metadata": {},
   "outputs": [],
   "source": [
    "filtr_input_1 = output1#'/home/irinab/Desktop/16s/downsampling/125_5ng/v300056283_run32_L04_125_1_250_reads.fq'#\n",
    "filtr_input_2 = output2#'/home/irinab/Desktop/16s/downsampling/125_5ng/v300056283_run32_L04_125_2_250_reads.fq'#\n",
    "\n",
    "filtr_output_1 = filtr_input_1[:-3]+'_filtered.fq'\n",
    "filtr_output_2 = filtr_input_2[:-3]+'_filtered.fq'"
   ]
  },
  {
   "cell_type": "code",
   "execution_count": 90,
   "metadata": {},
   "outputs": [
    {
     "name": "stdout",
     "output_type": "stream",
     "text": [
      "GTGYCAGCMGCCGCGGTAA GGACTACNVGGGTWTCTAAT\n",
      "\n",
      "324478 75522 \n",
      "\n",
      "max permitted number of mismatches 3\n",
      "85.94025 % good first reads\n",
      "83.49075 % good second reads\n",
      "81.1195 % total reads good\n"
     ]
    }
   ],
   "source": [
    "number_of_good_reads = 0\n",
    "number_of_bed_reads = 0\n",
    "number_of_good_reads_1=0\n",
    "number_of_good_reads_2=0\n",
    "\n",
    "number_of_reads_filtering=number_of_reads\n",
    "number_of_max_mismatches=3\n",
    "\n",
    "with open(filtr_input_1) as f1, open(filtr_input_2) as f2:\n",
    "    content1 = f1.readlines()\n",
    "    content2 = f2.readlines()\n",
    "# you may also want to remove whitespace characters like `\\n` at the end of each line\n",
    "content1 = [x.strip() for x in content1]\n",
    "content2 = [x.strip() for x in content2]\n",
    "\n",
    "print('GTGYCAGCMGCCGCGGTAA','GGACTACNVGGGTWTCTAAT\\n')\n",
    "\n",
    "for i in range (0, number_of_reads_filtering):\n",
    "\n",
    "    current_read1=content1[i*4:i*4+4]\n",
    "    current_read2=content2[i*4:i*4+4]\n",
    "    #print(i,current_read1,'\\n\\n', current_read2)\n",
    "    current_primer1=current_read1[1][8:27]\n",
    "    current_primer2=current_read2[1][8:28]\n",
    "    #print(i,current_primer1, current_primer2)\n",
    "    #print((primer_mism_1(current_primer1)),(primer_mism_2(current_primer2)))\n",
    "    if (primer_mism_1(current_primer1)<=number_of_max_mismatches) and (primer_mism_2(current_primer2) <=number_of_max_mismatches):\n",
    "        number_of_good_reads+=1\n",
    "        f_out_1 = open(filtr_output_1, 'a')\n",
    "        for item1 in current_read1:\n",
    "            f_out_1.write(item1+'\\n')\n",
    "        f_out_1.close()\n",
    "        f_out_2 = open(filtr_output_2, 'a')\n",
    "        for item2 in current_read2:\n",
    "            f_out_2.write(item2+'\\n')\n",
    "        f_out_2.close()\n",
    "    else:\n",
    "        number_of_bed_reads+=1\n",
    "    if (primer_mism_1(current_primer1)<=number_of_max_mismatches): number_of_good_reads_1+=1\n",
    "    if (primer_mism_2(current_primer2)<=number_of_max_mismatches): number_of_good_reads_2+=1\n",
    "    #for item in current_read:\n",
    "    #    print(item)\n",
    "print(number_of_good_reads,number_of_bed_reads,'\\n')\n",
    "print('max permitted number of mismatches',number_of_max_mismatches)\n",
    "print(100*number_of_good_reads_1/number_of_reads_filtering,'% good first reads')\n",
    "print(100*number_of_good_reads_2/number_of_reads_filtering,'% good second reads')\n",
    "if number_of_bed_reads!=0:\n",
    "    print(number_of_good_reads*100/(number_of_good_reads+number_of_bed_reads),'% total reads good')\n",
    "else:\n",
    "    print('100% good')"
   ]
  },
  {
   "cell_type": "code",
   "execution_count": null,
   "metadata": {},
   "outputs": [],
   "source": [
    "на 100000 рандомных ридах\n",
    "\n",
    "125\n",
    "max permitted number of mismatches 3\n",
    "94.926 % good first reads\n",
    "91.766 % good second reads\n",
    "89.876 % total reads good\n",
    "\n",
    "126\n",
    "max permitted number of mismatches 3\n",
    "95.286 % good first reads\n",
    "92.447 % good second reads\n",
    "90.448 % total reads good\n",
    "\n",
    "127\n",
    "max permitted number of mismatches 3\n",
    "85.957 % good first reads\n",
    "83.496 % good second reads\n",
    "81.091 % total reads good\n",
    "\n",
    "128\n",
    "max permitted number of mismatches 3\n",
    "16.822 % good first reads\n",
    "17.295 % good second reads\n",
    "15.196 % total reads good"
   ]
  },
  {
   "cell_type": "code",
   "execution_count": null,
   "metadata": {},
   "outputs": [],
   "source": [
    "на 400000 рандомных ридах\n",
    "\n",
    "125\n",
    "\n",
    "359042 40958\n",
    "max permitted number of mismatches 3\n",
    "94.811 % good first reads\n",
    "91.72375 % good second reads\n",
    "89.7605 % total reads good\n",
    "\n",
    "126\n",
    "\n",
    "\n",
    "\n",
    "\n",
    "127\n",
    "\n",
    "324478 75522 \n",
    "max permitted number of mismatches 3\n",
    "85.94025 % good first reads\n",
    "83.49075 % good second reads\n",
    "81.1195 % total reads good\n",
    "\n",
    "\n",
    "128\n",
    "\n",
    "\n"
   ]
  },
  {
   "cell_type": "code",
   "execution_count": 91,
   "metadata": {},
   "outputs": [],
   "source": [
    "def mismatches (seq1,seq2):\n",
    "    count = sum(1 for a, b in zip(seq1, seq2) if a != b)\n",
    "    return count"
   ]
  },
  {
   "cell_type": "code",
   "execution_count": 93,
   "metadata": {},
   "outputs": [],
   "source": [
    "#Analysis of taxonomical\n",
    "\n",
    "Sm_1='TACGAAGGGTGCAAGCGTTACTCGGAATTACTGGGCGTAAAGCGTGCGTAGGTGGTCGTTTAAGTCCGTTGTGAAAGCCCTGGGCTCAACCTGGGAACTGCAGTGGATACTGGACGACTAGAGTGTGGTAGAGGGTAGCGGAATTCCTGGTGTAGCAGTGAAATGCGTAGAGAT'\n",
    "Sm_2='CCTGTTTGCTCCCCACGCTTTCGTGCCTCAGTGTCAGTGTTGGTCCAGGTAGCTGCCTTCGCCATGGATGTTCCTCCTGATCTCTACGCATTTCACTGCTACACCAGGAATTCCGCTACCCTCTACCACACTCTAGTCGTCCAGTATCCACTGCAGTTCCCAGGTTGAGCCC'\n",
    "\n",
    "Pa_1='TACGAAGGGTGCAAGCGTTAATCGGAATTACTGGGCGTAAAGCGCGCGTAGGTGGTTCAGCAAGTTGGATGTGAAATCCCCGGGCTCAACCTGGGAACTGCATCCAAAACTACTGAGCTAGAGTACGGTAGAGGGTGGTGGAATTTCCTGTGTAGCGGTGAAATGCGTAGATA'\n",
    "Pa_2='CCTGTTTGCTCCCCACGCTTTCGCACCTCAGTGTCAGTATCAGTCCAGGTGGTCGCCTTCGCCACTGGTGTTCCTTCCTATATCTACGCATTTCACCGCTACACAGGAAATTCCACCACCCTCTACCGTACTCTAGCTCAGTAGTTTTGGATGCAGTTCCCAGGTTGAGCCC'\n",
    "\n",
    "Bc_1='TACGTAGGGTGCAAGCGTTAATCGGAATTACTGGGCGTAAAGCGTGCGCAGGCGGTTTGCTAAGACCGATGTGAAATCCCCGGGCTCAACCTGGGAACTGCATTGGTGACTGGCAGGCTAGAGTATGGCAGAGGGGGGTAGAATTCCACGTGTAGCAGTGAAATGCGTAGAGA'\n",
    "Bc_2='CCTGTTTGCTCCCCACGCTTTCGTGCATGAGCGTCAGTATTGGCCCAGGGGGCTGCCTTCGCCATCGGTATTCCTCCACATCTCTACGCATTTCACTGCTACACGTGGAATTCTACCCCCCTCTGCCATACTCTAGCCTGCCAGTCACCAATGCAGTTCCCAGGTTGAGCCC'\n",
    "\n",
    "Lf_1='TACGTAGGTGGCAAGCGTTATCCGGATTTATTGGGCGTAAAGAGAGTGCAGGCGGTTTTCTAAGTCTGATGTGAAAGCCTTCGGCTTAACCGGAGAAGTGCATCGGAAACTGGATAACTTGAGTGCAGAAGAGGGTAGTGGAACTCCATGTGTAGCGGTGGAATGCGTAGATA'\n",
    "Lf_2='CCTGTTCGCTACCCATGCTTTCGAGTCTCAGCGTCAGTTGCAGACCAGGTAGCCGCCTTCGCCACTGGTGTTCTTCCATATATCTACGCATTCCACCGCTACACATGGAGTTCCACTACCCTCTTCTGCACTCAAGTTATCCAGTTTCCGATGCACTTCTCCGGTTAAGCCG'\n",
    "\n",
    "Human_1 = 'TTCCAGCTCCAATAGCGTATATTAAAGTTGCTGCAGTTAAAAAGCTCGTAGTTGGATCTTGGGAGCGGGCGGGCGGTCCGCCGCGAGGCGAGCCACCGCCCGTCCCCGCCCCTTGCCTCTCGGCGCCCCCTCGATGCTCTTAGCTGAGTGTCCCGCGGGGCCCGAAGCGTTTACTTTGAAAAAATTAGAGTG'\n",
    "Human_2 = 'CGTCTTCGAACCTCCGACTTTCGTTCTTGATTAATGAAAACATTCTTGGCAAATGCTTTCGCTCTGGTCCGTCTTGCGCCGGTCCAAGAATTTCACCTCTAGCGGCGCAATACGAATGCCCCCGGCCGTCCCTCTTAATCATGGCCTCAGTTCCGAAAACCAACAAAATAGAACCGCGGTCCTATTCCATTA'\n",
    "\n",
    "taxonomic_input_1=filtr_output_1\n",
    "taxonomic_input_2=filtr_output_2\n",
    "\n",
    "number_of_reads_filtering=number_of_reads\n",
    "number_of_max_mismatches=6"
   ]
  },
  {
   "cell_type": "code",
   "execution_count": 23,
   "metadata": {},
   "outputs": [
    {
     "name": "stdout",
     "output_type": "stream",
     "text": [
      "Lf \n",
      "\n",
      "115 99885 \n",
      "\n",
      "Lf\n",
      "max permitted number of mismatches 6\n",
      "0.124 % good first reads\n",
      "0.129 % good second reads\n",
      "0.115 % total reads good\n"
     ]
    }
   ],
   "source": [
    "\n",
    "Bac_1=Lf_1\n",
    "Bac_2=Lf_2\n",
    "\n",
    "title='Lf'\n",
    "\n",
    "number_of_good_reads = 0\n",
    "number_of_bed_reads = 0\n",
    "number_of_good_reads_1=0\n",
    "number_of_good_reads_2=0\n",
    "\n",
    "with open(filtr_input_1) as f1, open(filtr_input_2) as f2:\n",
    "    content1 = f1.readlines()\n",
    "    content2 = f2.readlines()\n",
    "# you may also want to remove whitespace characters like `\\n` at the end of each line\n",
    "content1 = [x.strip() for x in content1]\n",
    "content2 = [x.strip() for x in content2]\n",
    "\n",
    "print(title,'\\n')\n",
    "\n",
    "for i in range (0, number_of_reads_filtering):\n",
    "\n",
    "    current_read1=content1[i*4:i*4+4]\n",
    "    current_read2=content2[i*4:i*4+4]\n",
    "    #print(i,current_read1,'\\n\\n', current_read2)\n",
    "    current_primer1=current_read1[1][27:27+len(Bac_1)]\n",
    "    current_primer2=current_read2[1][28:28+len(Bac_2)]\n",
    "    #print(i,current_primer1, current_primer2)\n",
    "    #print((primer_mism_1(current_primer1)),(primer_mism_2(current_primer2)))\n",
    "    if (mismatches(Bac_1,current_primer1)<=number_of_max_mismatches) and (mismatches(Bac_2,current_primer2) <=number_of_max_mismatches):\n",
    "        number_of_good_reads+=1\n",
    "        #f_out_1 = open(filtr_output_1, 'a')\n",
    "        #for item1 in current_read1:\n",
    "        #    f_out_1.write(item1+'\\n')\n",
    "        #f_out_1.close()\n",
    "        #f_out_2 = open(filtr_output_2, 'a')\n",
    "        #for item2 in current_read2:\n",
    "        #    f_out_2.write(item2+'\\n')\n",
    "        #f_out_2.close()\n",
    "    else:\n",
    "        number_of_bed_reads+=1\n",
    "    if (mismatches(Bac_1,current_primer1) <=number_of_max_mismatches): number_of_good_reads_1+=1\n",
    "    if (mismatches(Bac_2,current_primer2) <=number_of_max_mismatches): number_of_good_reads_2+=1\n",
    "    #for item in current_read:\n",
    "    #    print(item)\n",
    "print(number_of_good_reads,number_of_bed_reads,'\\n')\n",
    "print(title)\n",
    "print('max permitted number of mismatches',number_of_max_mismatches)\n",
    "print(100*number_of_good_reads_1/number_of_reads_filtering,'% good first reads')\n",
    "print(100*number_of_good_reads_2/number_of_reads_filtering,'% good second reads')\n",
    "if number_of_bed_reads!=0:\n",
    "    print(number_of_good_reads*100/(number_of_good_reads+number_of_bed_reads),'% total reads good')\n",
    "else:\n",
    "    print('100% good')"
   ]
  },
  {
   "cell_type": "code",
   "execution_count": 34,
   "metadata": {},
   "outputs": [
    {
     "ename": "SyntaxError",
     "evalue": "invalid syntax (<ipython-input-34-f0f4059c20fe>, line 1)",
     "output_type": "error",
     "traceback": [
      "\u001b[0;36m  File \u001b[0;32m\"<ipython-input-34-f0f4059c20fe>\"\u001b[0;36m, line \u001b[0;32m1\u001b[0m\n\u001b[0;31m    For 125\u001b[0m\n\u001b[0m          ^\u001b[0m\n\u001b[0;31mSyntaxError\u001b[0m\u001b[0;31m:\u001b[0m invalid syntax\n"
     ]
    }
   ],
   "source": [
    "For 125\n",
    "\n",
    "Sm\n",
    "max permitted number of mismatches 6\n",
    "24.676 % good first reads\n",
    "24.12 % good second reads\n",
    "22.946 % total reads good\n",
    "\n",
    "Pa\n",
    "max permitted number of mismatches 6\n",
    "35.076 % good first reads\n",
    "34.406 % good second reads\n",
    "32.892 % total reads good\n",
    "\n",
    "Bc\n",
    "max permitted number of mismatches 6\n",
    "30.916 % good first reads\n",
    "30.29 % good second reads\n",
    "28.785 % total reads good\n",
    "\n",
    "Lf\n",
    "max permitted number of mismatches 6\n",
    "0.124 % good first reads\n",
    "0.129 % good second reads\n",
    "0.115 % total reads good"
   ]
  },
  {
   "cell_type": "code",
   "execution_count": 8,
   "metadata": {},
   "outputs": [],
   "source": [
    "def procent_bacteria(taxonomic_input_1,taxonomic_input_2,Bac_1,Bac_2,number_of_max_mismatches,number_of_reads_filtering,title):\n",
    "\n",
    "    number_of_good_reads = 0\n",
    "    number_of_bed_reads = 0\n",
    "    number_of_good_reads_1=0\n",
    "    number_of_good_reads_2=0\n",
    "\n",
    "    with open(filtr_input_1) as f1, open(filtr_input_2) as f2:\n",
    "        content1 = f1.readlines()\n",
    "        content2 = f2.readlines()\n",
    "    # you may also want to remove whitespace characters like `\\n` at the end of each line\n",
    "    content1 = [x.strip() for x in content1]\n",
    "    content2 = [x.strip() for x in content2]\n",
    "\n",
    "    #print(title,'\\n')\n",
    "\n",
    "    for i in range (0, number_of_reads_filtering):\n",
    "\n",
    "        current_read1=content1[i*4:i*4+4]\n",
    "        current_read2=content2[i*4:i*4+4]\n",
    "        #print(i,current_read1,'\\n\\n', current_read2)\n",
    "        current_primer1=current_read1[1][27:27+len(Bac_1)]\n",
    "        current_primer2=current_read2[1][28:28+len(Bac_2)]\n",
    "        #print(i,current_primer1, current_primer2)\n",
    "        #print((primer_mism_1(current_primer1)),(primer_mism_2(current_primer2)))\n",
    "        if (mismatches(Bac_1,current_primer1)<=number_of_max_mismatches) and (mismatches(Bac_2,current_primer2) <=number_of_max_mismatches):\n",
    "            number_of_good_reads+=1\n",
    "            #f_out_1 = open(filtr_output_1, 'a')\n",
    "            #for item1 in current_read1:\n",
    "            #    f_out_1.write(item1+'\\n')\n",
    "            #f_out_1.close()\n",
    "            #f_out_2 = open(filtr_output_2, 'a')\n",
    "            #for item2 in current_read2:\n",
    "            #    f_out_2.write(item2+'\\n')\n",
    "            #f_out_2.close()\n",
    "        else:\n",
    "            number_of_bed_reads+=1\n",
    "        if (mismatches(Bac_1,current_primer1) <=number_of_max_mismatches): number_of_good_reads_1+=1\n",
    "        if (mismatches(Bac_2,current_primer2) <=number_of_max_mismatches): number_of_good_reads_2+=1\n",
    "        #for item in current_read:\n",
    "        #    print(item)\n",
    "    #print(number_of_good_reads,number_of_bed_reads,'\\n')\n",
    "    print(title)\n",
    "    print('max permitted number of mismatches',number_of_max_mismatches)\n",
    "    print(100*number_of_good_reads_1/number_of_reads_filtering,'% good first reads')\n",
    "    print(100*number_of_good_reads_2/number_of_reads_filtering,'% good second reads')\n",
    "    if number_of_bed_reads!=0:\n",
    "        print(number_of_good_reads*100/(number_of_good_reads+number_of_bed_reads),'% total reads good\\n')\n",
    "    else:\n",
    "        print('100% good\\n')"
   ]
  },
  {
   "cell_type": "code",
   "execution_count": 94,
   "metadata": {},
   "outputs": [
    {
     "name": "stdout",
     "output_type": "stream",
     "text": [
      "Sm\n",
      "max permitted number of mismatches 6\n",
      "19.20675 % good first reads\n",
      "18.8165 % good second reads\n",
      "18.04925 % total reads good\n",
      "\n",
      "Pa\n",
      "max permitted number of mismatches 6\n",
      "32.528 % good first reads\n",
      "32.12775 % good second reads\n",
      "30.88075 % total reads good\n",
      "\n",
      "Bc\n",
      "max permitted number of mismatches 6\n",
      "28.722 % good first reads\n",
      "28.1765 % good second reads\n",
      "26.96725 % total reads good\n",
      "\n",
      "Lf\n",
      "max permitted number of mismatches 6\n",
      "1.89325 % good first reads\n",
      "2.02075 % good second reads\n",
      "1.76775 % total reads good\n",
      "\n",
      "Human\n",
      "max permitted number of mismatches 6\n",
      "0.0 % good first reads\n",
      "0.0 % good second reads\n",
      "0.0 % total reads good\n",
      "\n"
     ]
    }
   ],
   "source": [
    "#Analysis of taxonomical\n",
    "\n",
    "Sm_1='TACGAAGGGTGCAAGCGTTACTCGGAATTACTGGGCGTAAAGCGTGCGTAGGTGGTCGTTTAAGTCCGTTGTGAAAGCCCTGGGCTCAACCTGGGAACTGCAGTGGATACTGGACGACTAGAGTGTGGTAGAGGGTAGCGGAATTCCTGGTGTAGCAGTGAAATGCGTAGAGAT'\n",
    "Sm_2='CCTGTTTGCTCCCCACGCTTTCGTGCCTCAGTGTCAGTGTTGGTCCAGGTAGCTGCCTTCGCCATGGATGTTCCTCCTGATCTCTACGCATTTCACTGCTACACCAGGAATTCCGCTACCCTCTACCACACTCTAGTCGTCCAGTATCCACTGCAGTTCCCAGGTTGAGCCC'\n",
    "\n",
    "Pa_1='TACGAAGGGTGCAAGCGTTAATCGGAATTACTGGGCGTAAAGCGCGCGTAGGTGGTTCAGCAAGTTGGATGTGAAATCCCCGGGCTCAACCTGGGAACTGCATCCAAAACTACTGAGCTAGAGTACGGTAGAGGGTGGTGGAATTTCCTGTGTAGCGGTGAAATGCGTAGATA'\n",
    "Pa_2='CCTGTTTGCTCCCCACGCTTTCGCACCTCAGTGTCAGTATCAGTCCAGGTGGTCGCCTTCGCCACTGGTGTTCCTTCCTATATCTACGCATTTCACCGCTACACAGGAAATTCCACCACCCTCTACCGTACTCTAGCTCAGTAGTTTTGGATGCAGTTCCCAGGTTGAGCCC'\n",
    "\n",
    "Bc_1='TACGTAGGGTGCAAGCGTTAATCGGAATTACTGGGCGTAAAGCGTGCGCAGGCGGTTTGCTAAGACCGATGTGAAATCCCCGGGCTCAACCTGGGAACTGCATTGGTGACTGGCAGGCTAGAGTATGGCAGAGGGGGGTAGAATTCCACGTGTAGCAGTGAAATGCGTAGAGA'\n",
    "Bc_2='CCTGTTTGCTCCCCACGCTTTCGTGCATGAGCGTCAGTATTGGCCCAGGGGGCTGCCTTCGCCATCGGTATTCCTCCACATCTCTACGCATTTCACTGCTACACGTGGAATTCTACCCCCCTCTGCCATACTCTAGCCTGCCAGTCACCAATGCAGTTCCCAGGTTGAGCCC'\n",
    "\n",
    "Lf_1='TACGTAGGTGGCAAGCGTTATCCGGATTTATTGGGCGTAAAGAGAGTGCAGGCGGTTTTCTAAGTCTGATGTGAAAGCCTTCGGCTTAACCGGAGAAGTGCATCGGAAACTGGATAACTTGAGTGCAGAAGAGGGTAGTGGAACTCCATGTGTAGCGGTGGAATGCGTAGATA'\n",
    "Lf_2='CCTGTTCGCTACCCATGCTTTCGAGTCTCAGCGTCAGTTGCAGACCAGGTAGCCGCCTTCGCCACTGGTGTTCTTCCATATATCTACGCATTCCACCGCTACACATGGAGTTCCACTACCCTCTTCTGCACTCAAGTTATCCAGTTTCCGATGCACTTCTCCGGTTAAGCCG'\n",
    "\n",
    "\n",
    "Human_1 = 'TTCCAGCTCCAATAGCGTATATTAAAGTTGCTGCAGTTAAAAAGCTCGTAGTTGGATCTTGGGAGCGGGCGGGCGGTCCGCCGCGAGGCGAGCCACCGCCCGTCCCCGCCCCTTGCCTCTCGGCGCCCCCTCGATGCTCTTAGCTGAGTGTCCCGCGGGGCCCGAAGCGTTTACTTTGAAAAAATTAGAGTG'\n",
    "Human_2 = 'CGTCTTCGAACCTCCGACTTTCGTTCTTGATTAATGAAAACATTCTTGGCAAATGCTTTCGCTCTGGTCCGTCTTGCGCCGGTCCAAGAATTTCACCTCTAGCGGCGCAATACGAATGCCCCCGGCCGTCCCTCTTAATCATGGCCTCAGTTCCGAAAACCAACAAAATAGAACCGCGGTCCTATTCCATTA'\n",
    "\n",
    "#Bac_1=Lf_1\n",
    "#Bac_2=Lf_2\n",
    "\n",
    "#title='Lf'\n",
    "\n",
    "taxonomic_input_1=filtr_output_1\n",
    "taxonomic_input_2=filtr_output_2\n",
    "\n",
    "\n",
    "\n",
    "procent_bacteria(taxonomic_input_1,taxonomic_input_2,Sm_1,Sm_2,number_of_max_mismatches,number_of_reads_filtering,'Sm')\n",
    "\n",
    "procent_bacteria(taxonomic_input_1,taxonomic_input_2,Pa_1,Pa_2,number_of_max_mismatches,number_of_reads_filtering,'Pa')\n",
    "\n",
    "procent_bacteria(taxonomic_input_1,taxonomic_input_2,Bc_1,Bc_2,number_of_max_mismatches,number_of_reads_filtering,'Bc')\n",
    "\n",
    "procent_bacteria(taxonomic_input_1,taxonomic_input_2,Lf_1,Lf_2,number_of_max_mismatches,number_of_reads_filtering,'Lf')\n",
    "\n",
    "procent_bacteria(taxonomic_input_1,taxonomic_input_2,Human_1,Human_2,number_of_max_mismatches,number_of_reads_filtering,'Human')\n"
   ]
  },
  {
   "cell_type": "code",
   "execution_count": 26,
   "metadata": {},
   "outputs": [
    {
     "data": {
      "text/plain": [
       "'/home/irinab/Desktop/16s/downsampling/127_0,2ng/v300056283_run32_L04_127_1_100000_reads_filtered.fq'"
      ]
     },
     "execution_count": 26,
     "metadata": {},
     "output_type": "execute_result"
    }
   ],
   "source": [
    "taxonomic_input_1"
   ]
  },
  {
   "cell_type": "code",
   "execution_count": null,
   "metadata": {},
   "outputs": [],
   "source": [
    "##########\n",
    "For 100000\n",
    "##########\n",
    "\n",
    "For 125\n",
    "\n",
    "Sm\n",
    "max permitted number of mismatches 6\n",
    "24.676 % good first reads\n",
    "24.12 % good second reads\n",
    "22.946 % total reads good\n",
    "\n",
    "Pa\n",
    "max permitted number of mismatches 6\n",
    "35.076 % good first reads\n",
    "34.406 % good second reads\n",
    "32.892 % total reads good\n",
    "\n",
    "Bc\n",
    "max permitted number of mismatches 6\n",
    "30.916 % good first reads\n",
    "30.29 % good second reads\n",
    "28.785 % total reads good\n",
    "\n",
    "Lf\n",
    "max permitted number of mismatches 6\n",
    "0.124 % good first reads\n",
    "0.129 % good second reads\n",
    "0.115 % total reads good\n",
    "\n",
    "For 126\n",
    "\n",
    "Sm\n",
    "max permitted number of mismatches 6\n",
    "22.801 % good first reads\n",
    "22.437 % good second reads\n",
    "21.37 % total reads good\n",
    "\n",
    "Pa\n",
    "max permitted number of mismatches 6\n",
    "35.671 % good first reads\n",
    "34.972 % good second reads\n",
    "33.615 % total reads good\n",
    "\n",
    "Bc\n",
    "max permitted number of mismatches 6\n",
    "32.951 % good first reads\n",
    "32.286 % good second reads\n",
    "30.821 % total reads good\n",
    "\n",
    "Lf\n",
    "max permitted number of mismatches 6\n",
    "0.301 % good first reads\n",
    "0.334 % good second reads\n",
    "0.274 % total reads good\n",
    "\n",
    "For 127\n",
    "\n",
    "Sm\n",
    "max permitted number of mismatches 6\n",
    "19.057 % good first reads\n",
    "18.669 % good second reads\n",
    "17.901 % total reads good\n",
    "\n",
    "Pa\n",
    "max permitted number of mismatches 6\n",
    "32.67 % good first reads\n",
    "32.212 % good second reads\n",
    "30.919 % total reads good\n",
    "\n",
    "Bc\n",
    "max permitted number of mismatches 6\n",
    "28.676 % good first reads\n",
    "28.192 % good second reads\n",
    "26.964 % total reads good\n",
    "\n",
    "Lf\n",
    "max permitted number of mismatches 6\n",
    "1.901 % good first reads\n",
    "2.025 % good second reads\n",
    "1.775 % total reads good\n",
    "\n",
    "\n",
    "For 128\n",
    "\n",
    "Sm\n",
    "max permitted number of mismatches 6\n",
    "0.046 % good first reads\n",
    "0.044 % good second reads\n",
    "0.043 % total reads good\n",
    "\n",
    "Pa\n",
    "max permitted number of mismatches 6\n",
    "0.068 % good first reads\n",
    "0.067 % good second reads\n",
    "0.063 % total reads good\n",
    "\n",
    "Bc\n",
    "max permitted number of mismatches 6\n",
    "0.077 % good first reads\n",
    "0.08 % good second reads\n",
    "0.073 % total reads good\n",
    "\n",
    "Lf\n",
    "max permitted number of mismatches 6\n",
    "13.318 % good first reads\n",
    "14.927 % good second reads\n",
    "12.287 % total reads good"
   ]
  },
  {
   "cell_type": "code",
   "execution_count": null,
   "metadata": {},
   "outputs": [],
   "source": [
    "##########\n",
    "For 400000\n",
    "##########\n",
    "\n",
    "For 125\n",
    "\n",
    "Sm\n",
    "max permitted number of mismatches 6\n",
    "24.35075 % good first reads\n",
    "23.8505 % good second reads\n",
    "22.6505 % total reads good\n",
    "\n",
    "Pa\n",
    "max permitted number of mismatches 6\n",
    "35.27 % good first reads\n",
    "34.66025 % good second reads\n",
    "33.11225 % total reads good\n",
    "\n",
    "Bc\n",
    "max permitted number of mismatches 6\n",
    "30.902 % good first reads\n",
    "30.24875 % good second reads\n",
    "28.782 % total reads good\n",
    "\n",
    "Lf\n",
    "max permitted number of mismatches 6\n",
    "0.13025 % good first reads\n",
    "0.13575 % good second reads\n",
    "0.1205 % total reads good\n",
    "\n",
    "For 126\n",
    "\n",
    "\n",
    "\n",
    "\n",
    "For 127\n",
    "\n",
    "Sm\n",
    "max permitted number of mismatches 6\n",
    "19.20675 % good first reads\n",
    "18.8165 % good second reads\n",
    "18.04925 % total reads good\n",
    "\n",
    "Pa\n",
    "max permitted number of mismatches 6\n",
    "32.528 % good first reads\n",
    "32.12775 % good second reads\n",
    "30.88075 % total reads good\n",
    "\n",
    "Bc\n",
    "max permitted number of mismatches 6\n",
    "28.722 % good first reads\n",
    "28.1765 % good second reads\n",
    "26.96725 % total reads good\n",
    "\n",
    "Lf\n",
    "max permitted number of mismatches 6\n",
    "1.89325 % good first reads\n",
    "2.02075 % good second reads\n",
    "1.76775 % total reads good\n",
    "\n",
    "Human\n",
    "max permitted number of mismatches 6\n",
    "0.0 % good first reads\n",
    "0.0 % good second reads\n",
    "0.0 % total reads good\n",
    "\n",
    "\n",
    "For 128\n",
    "\n"
   ]
  },
  {
   "cell_type": "code",
   "execution_count": 25,
   "metadata": {},
   "outputs": [
    {
     "data": {
      "text/plain": [
       "96.11"
      ]
     },
     "execution_count": 25,
     "metadata": {},
     "output_type": "execute_result"
    }
   ],
   "source": [
    "11.5+22.94+32.89+28.78"
   ]
  },
  {
   "cell_type": "code",
   "execution_count": 95,
   "metadata": {},
   "outputs": [],
   "source": [
    "#thread https://twist.com/a/2254/ch/329639/t/1626708\n",
    "#NNBDHVNNNNBDHVNN\n",
    "\n",
    "#B - not A\n",
    "#D - not C\n",
    "#H - not G\n",
    "#V - not T\n",
    "\n",
    "def if_umi_good(umi_seq): ##double UMI like 'ATTTTCCCTGTGTGTC'\n",
    "    umi1=umi_seq[0:8]\n",
    "    umi2=umi_seq[8:16]\n",
    "    if ((umi1[2]!= 'A') and (umi2[2]!= 'A') and (umi1[3]!= 'C') and (umi2[3]!= 'C') and (umi1[4]!= 'G') and (umi2[4]!= 'G') and (umi1[5]!= 'T') and (umi2[5]!= 'T')):\n",
    "        return True\n",
    "    else:\n",
    "        return False\n",
    "    \n",
    "\n",
    "def UMI_for_bacteria(taxonomic_input_1,taxonomic_input_2,Bac_1,Bac_2,number_of_max_mismatches,number_of_reads_filtering,title):\n",
    "\n",
    "    number_of_good_reads = 0\n",
    "    number_of_bed_reads = 0\n",
    "    number_of_good_reads_1=0\n",
    "    number_of_good_reads_2=0\n",
    "    good_umi_of_good_reads=0\n",
    "    bad_umi_of_good_reads=0\n",
    "    UMI_of_good_reads_value=[]\n",
    "    UMI_of_good_reads_count=[]\n",
    "    with open(filtr_input_1) as f1, open(filtr_input_2) as f2:\n",
    "        content1 = f1.readlines()\n",
    "        content2 = f2.readlines()\n",
    "    # you may also want to remove whitespace characters like `\\n` at the end of each line\n",
    "    content1 = [x.strip() for x in content1]\n",
    "    content2 = [x.strip() for x in content2]\n",
    "\n",
    "    #print(title,'\\n')\n",
    "\n",
    "    for i in range (0, number_of_reads_filtering):\n",
    "\n",
    "        current_read1=content1[i*4:i*4+4]\n",
    "        current_read2=content2[i*4:i*4+4]\n",
    "        #print(i,current_read1,'\\n\\n', current_read2)\n",
    "        current_primer1=current_read1[1][27:27+len(Bac_1)]\n",
    "        current_primer2=current_read2[1][28:28+len(Bac_2)]\n",
    "        #print(i,current_primer1, current_primer2)\n",
    "        #print((primer_mism_1(current_primer1)),(primer_mism_2(current_primer2)))\n",
    "        if (mismatches(Bac_1,current_primer1)<=number_of_max_mismatches) and (mismatches(Bac_2,current_primer2) <=number_of_max_mismatches):\n",
    "            number_of_good_reads+=1\n",
    "            \n",
    "            \n",
    "            current_UMI = current_read1[1][0:8]+current_read2[1][0:8]\n",
    "            if if_umi_good(current_UMI):\n",
    "                good_umi_of_good_reads+=1\n",
    "                if (current_UMI in UMI_of_good_reads_value):\n",
    "                    UMI_of_good_reads_count[UMI_of_good_reads_value.index(current_UMI)]+=1\n",
    "                if not (current_UMI in UMI_of_good_reads_value):\n",
    "                    UMI_of_good_reads_value.append(current_UMI)\n",
    "                    UMI_of_good_reads_count.append(1)\n",
    "            else:\n",
    "                bad_umi_of_good_reads+=1\n",
    "                    \n",
    "            \n",
    "        else:\n",
    "            number_of_bed_reads+=1\n",
    "        if (mismatches(Bac_1,current_primer1) <=number_of_max_mismatches): number_of_good_reads_1+=1\n",
    "        if (mismatches(Bac_2,current_primer2) <=number_of_max_mismatches): number_of_good_reads_2+=1\n",
    "        #for item in current_read:\n",
    "        #    print(item)\n",
    "    print('bacteria reads =\\'good reads\\'',number_of_good_reads,'\\nnot bacteria reads =\\'bad reads\\'',number_of_bed_reads,'\\n')\n",
    "    print(title)\n",
    "    print('max permitted number of mismatches',number_of_max_mismatches)\n",
    "    print(100*number_of_good_reads_1/number_of_reads_filtering,'% good first reads')\n",
    "    print(100*number_of_good_reads_2/number_of_reads_filtering,'% good second reads')\n",
    "    if number_of_bed_reads!=0:\n",
    "        print(number_of_good_reads*100/(number_of_good_reads+number_of_bed_reads),'% total reads good\\n')\n",
    "    else:\n",
    "        print('100% good\\n')\n",
    "    print('good reads with good UMI',good_umi_of_good_reads ,'\\ngood reads with bad UMI',bad_umi_of_good_reads,'\\npercent of good UMI in good reads',(good_umi_of_good_reads*100)/number_of_good_reads)\n",
    "    print('unique UMIs',len(UMI_of_good_reads_value))\n",
    "    return UMI_of_good_reads_value, UMI_of_good_reads_count\n"
   ]
  },
  {
   "cell_type": "code",
   "execution_count": 96,
   "metadata": {},
   "outputs": [
    {
     "name": "stdout",
     "output_type": "stream",
     "text": [
      "bacteria reads ='good reads' 72197 \n",
      "not bacteria reads ='bad reads' 327803 \n",
      "\n",
      "Sm\n",
      "max permitted number of mismatches 6\n",
      "19.20675 % good first reads\n",
      "18.8165 % good second reads\n",
      "18.04925 % total reads good\n",
      "\n",
      "good reads with good UMI 72000 \n",
      "good reads with bad UMI 197 \n",
      "percent of good UMI in good reads 99.72713547654335\n",
      "unique UMIs 8199\n",
      "\n",
      "\n",
      "done\n"
     ]
    }
   ],
   "source": [
    "#FOR ready seq\n",
    "\n",
    "#input1 = '/home/irinab/Desktop/16s/downsampling/125_5ng/v300056283_run32_L04_125_1.fq.gz'\n",
    "#input2 = '/home/irinab/Desktop/16s/downsampling/125_5ng/v300056283_run32_L04_125_2.fq.gz'\n",
    "\n",
    "#input1 = '/home/irinab/Desktop/16s/downsampling/126_1ng/v300056283_run32_L04_126_1.fq.gz'\n",
    "#input2 = '/home/irinab/Desktop/16s/downsampling/126_1ng/v300056283_run32_L04_126_2.fq.gz'\n",
    "\n",
    "input1 = '/home/irinab/Desktop/16s/downsampling/127_0,2ng/v300056283_run32_L04_127_1.fq.gz'\n",
    "input2 = '/home/irinab/Desktop/16s/downsampling/127_0,2ng/v300056283_run32_L04_127_2.fq.gz'\n",
    "\n",
    "#input1 = '/home/irinab/Desktop/16s/downsampling/128_NTC/v300056283_run32_L04_128_1.fq.gz'\n",
    "#input2 = '/home/irinab/Desktop/16s/downsampling/128_NTC/v300056283_run32_L04_128_2.fq.gz'\n",
    "\n",
    "\n",
    "number_of_reads=400000\n",
    "\n",
    "output1=input1[:-6]+'_'+str(number_of_reads)+'_reads.fq'\n",
    "output2=input2[:-6]+'_'+str(number_of_reads)+'_reads.fq'\n",
    "\n",
    "filtr_input_1 = output1#'/home/irinab/Desktop/16s/downsampling/125_5ng/v300056283_run32_L04_125_1_250_reads.fq'#\n",
    "filtr_input_2 = output2#'/home/irinab/Desktop/16s/downsampling/125_5ng/v300056283_run32_L04_125_2_250_reads.fq'#\n",
    "\n",
    "filtr_output_1 = filtr_input_1[:-3]+'_filtered.fq'\n",
    "filtr_output_2 = filtr_input_2[:-3]+'_filtered.fq'\n",
    "\n",
    "#Analysis of taxonomical\n",
    "\n",
    "Sm_1='TACGAAGGGTGCAAGCGTTACTCGGAATTACTGGGCGTAAAGCGTGCGTAGGTGGTCGTTTAAGTCCGTTGTGAAAGCCCTGGGCTCAACCTGGGAACTGCAGTGGATACTGGACGACTAGAGTGTGGTAGAGGGTAGCGGAATTCCTGGTGTAGCAGTGAAATGCGTAGAGAT'\n",
    "Sm_2='CCTGTTTGCTCCCCACGCTTTCGTGCCTCAGTGTCAGTGTTGGTCCAGGTAGCTGCCTTCGCCATGGATGTTCCTCCTGATCTCTACGCATTTCACTGCTACACCAGGAATTCCGCTACCCTCTACCACACTCTAGTCGTCCAGTATCCACTGCAGTTCCCAGGTTGAGCCC'\n",
    "\n",
    "Pa_1='TACGAAGGGTGCAAGCGTTAATCGGAATTACTGGGCGTAAAGCGCGCGTAGGTGGTTCAGCAAGTTGGATGTGAAATCCCCGGGCTCAACCTGGGAACTGCATCCAAAACTACTGAGCTAGAGTACGGTAGAGGGTGGTGGAATTTCCTGTGTAGCGGTGAAATGCGTAGATA'\n",
    "Pa_2='CCTGTTTGCTCCCCACGCTTTCGCACCTCAGTGTCAGTATCAGTCCAGGTGGTCGCCTTCGCCACTGGTGTTCCTTCCTATATCTACGCATTTCACCGCTACACAGGAAATTCCACCACCCTCTACCGTACTCTAGCTCAGTAGTTTTGGATGCAGTTCCCAGGTTGAGCCC'\n",
    "\n",
    "Bc_1='TACGTAGGGTGCAAGCGTTAATCGGAATTACTGGGCGTAAAGCGTGCGCAGGCGGTTTGCTAAGACCGATGTGAAATCCCCGGGCTCAACCTGGGAACTGCATTGGTGACTGGCAGGCTAGAGTATGGCAGAGGGGGGTAGAATTCCACGTGTAGCAGTGAAATGCGTAGAGA'\n",
    "Bc_2='CCTGTTTGCTCCCCACGCTTTCGTGCATGAGCGTCAGTATTGGCCCAGGGGGCTGCCTTCGCCATCGGTATTCCTCCACATCTCTACGCATTTCACTGCTACACGTGGAATTCTACCCCCCTCTGCCATACTCTAGCCTGCCAGTCACCAATGCAGTTCCCAGGTTGAGCCC'\n",
    "\n",
    "Lf_1='TACGTAGGTGGCAAGCGTTATCCGGATTTATTGGGCGTAAAGAGAGTGCAGGCGGTTTTCTAAGTCTGATGTGAAAGCCTTCGGCTTAACCGGAGAAGTGCATCGGAAACTGGATAACTTGAGTGCAGAAGAGGGTAGTGGAACTCCATGTGTAGCGGTGGAATGCGTAGATA'\n",
    "Lf_2='CCTGTTCGCTACCCATGCTTTCGAGTCTCAGCGTCAGTTGCAGACCAGGTAGCCGCCTTCGCCACTGGTGTTCTTCCATATATCTACGCATTCCACCGCTACACATGGAGTTCCACTACCCTCTTCTGCACTCAAGTTATCCAGTTTCCGATGCACTTCTCCGGTTAAGCCG'\n",
    "\n",
    "Human_1 = 'TTCCAGCTCCAATAGCGTATATTAAAGTTGCTGCAGTTAAAAAGCTCGTAGTTGGATCTTGGGAGCGGGCGGGCGGTCCGCCGCGAGGCGAGCCACCGCCCGTCCCCGCCCCTTGCCTCTCGGCGCCCCCTCGATGCTCTTAGCTGAGTGTCCCGCGGGGCCCGAAGCGTTTACTTTGAAAAAATTAGAGTG'\n",
    "Human_2 = 'CGTCTTCGAACCTCCGACTTTCGTTCTTGATTAATGAAAACATTCTTGGCAAATGCTTTCGCTCTGGTCCGTCTTGCGCCGGTCCAAGAATTTCACCTCTAGCGGCGCAATACGAATGCCCCCGGCCGTCCCTCTTAATCATGGCCTCAGTTCCGAAAACCAACAAAATAGAACCGCGGTCCTATTCCATTA'\n",
    "\n",
    "taxonomic_input_1=filtr_output_1\n",
    "taxonomic_input_2=filtr_output_2\n",
    "\n",
    "number_of_reads_filtering=number_of_reads\n",
    "number_of_max_mismatches=6\n",
    "\n",
    "\n",
    "#procent_bacteria(taxonomic_input_1,taxonomic_input_2,Human_1,Human_2,number_of_max_mismatches,number_of_reads_filtering,'Human')\n",
    "#procent_bacteria(taxonomic_input_1,taxonomic_input_2,Lf_1,Lf_2,number_of_max_mismatches,number_of_reads_filtering,'Lf')\n",
    "good_umi_values,good_umi_count=UMI_for_bacteria(taxonomic_input_1,taxonomic_input_2,Sm_1,Sm_2,number_of_max_mismatches,number_of_reads_filtering,'Sm')\n",
    "print('\\n\\ndone')"
   ]
  },
  {
   "cell_type": "code",
   "execution_count": null,
   "metadata": {},
   "outputs": [],
   "source": [
    "##########\n",
    "For 100000\n",
    "##########\n",
    "\n",
    "125\n",
    "\n",
    "bacteria reads ='good' 22946 \n",
    "not bacteria reads ='bad' 77054 \n",
    "\n",
    "Sm\n",
    "max permitted number of mismatches 6\n",
    "24.676 % good first reads\n",
    "24.12 % good second reads\n",
    "22.946 % total reads good\n",
    "\n",
    "good reads with good UMI 22872 \n",
    "good reads with bad UMI 74 \n",
    "percent of good UMI in good reads 99.67750370434935\n",
    "unique UMIs 19377\n",
    "\n",
    "\n",
    "126\n",
    "\n",
    "bacteria reads ='good' 21370 \n",
    "not bacteria reads ='bad' 78630 \n",
    "\n",
    "Sm\n",
    "max permitted number of mismatches 6\n",
    "22.801 % good first reads\n",
    "22.437 % good second reads\n",
    "21.37 % total reads good\n",
    "\n",
    "good reads with good UMI 21282 \n",
    "good reads with bad UMI 88 \n",
    "percent of good UMI in good reads 99.58820776789892\n",
    "unique UMIs 10218\n",
    "\n",
    "127\n",
    "\n",
    "bacteria reads ='good' 17901 \n",
    "not bacteria reads ='bad' 82099 \n",
    "\n",
    "Sm\n",
    "max permitted number of mismatches 6\n",
    "19.057 % good first reads\n",
    "18.669 % good second reads\n",
    "17.901 % total reads good\n",
    "\n",
    "good reads with good UMI 17852 \n",
    "good reads with bad UMI 49 \n",
    "percent of good UMI in good reads 99.72627227529188\n",
    "unique UMIs 3050\n",
    "\n",
    "\n",
    "128\n",
    "\n",
    "bacteria reads ='good' 43 \n",
    "not bacteria reads ='bad' 99957 \n",
    "\n",
    "Sm\n",
    "max permitted number of mismatches 6\n",
    "0.046 % good first reads\n",
    "0.044 % good second reads\n",
    "0.043 % total reads good\n",
    "\n",
    "good reads with good UMI 43 \n",
    "good reads with bad UMI 0 \n",
    "percent of good UMI in good reads 100.0\n",
    "unique UMIs 43\n",
    "\n"
   ]
  },
  {
   "cell_type": "code",
   "execution_count": null,
   "metadata": {},
   "outputs": [],
   "source": [
    "##########\n",
    "For 400000\n",
    "##########\n",
    "\n",
    "125\n",
    "\n",
    "bacteria reads ='good reads' 90602 \n",
    "not bacteria reads ='bad reads' 309398 \n",
    "\n",
    "Sm\n",
    "max permitted number of mismatches 6\n",
    "24.35075 % good first reads\n",
    "23.8505 % good second reads\n",
    "22.6505 % total reads good\n",
    "\n",
    "good reads with good UMI 90289 \n",
    "good reads with bad UMI 313 \n",
    "percent of good UMI in good reads 99.65453301251628\n",
    "unique UMIs 53370\n",
    "\n",
    "\n",
    "127\n",
    "\n",
    "bacteria reads ='good reads' 72197 \n",
    "not bacteria reads ='bad reads' 327803 \n",
    "\n",
    "Sm\n",
    "max permitted number of mismatches 6\n",
    "19.20675 % good first reads\n",
    "18.8165 % good second reads\n",
    "18.04925 % total reads good\n",
    "\n",
    "good reads with good UMI 72000 \n",
    "good reads with bad UMI 197 \n",
    "percent of good UMI in good reads 99.72713547654335\n",
    "unique UMIs 8199"
   ]
  },
  {
   "cell_type": "code",
   "execution_count": 97,
   "metadata": {},
   "outputs": [
    {
     "data": {
      "text/plain": [
       "[58, 77, 62, 52, 83, 66, 7, 62, 48, 30, 7, 2, 73, 34, 59, 59, 28, 71, 52, 64]"
      ]
     },
     "execution_count": 97,
     "metadata": {},
     "output_type": "execute_result"
    }
   ],
   "source": [
    "good_umi_count[0:20]"
   ]
  },
  {
   "cell_type": "code",
   "execution_count": 98,
   "metadata": {},
   "outputs": [
    {
     "name": "stdout",
     "output_type": "stream",
     "text": [
      "done\n"
     ]
    }
   ],
   "source": [
    "from collections import Counter\n",
    "\n",
    "words = good_umi_count\n",
    "words.sort()\n",
    "umi_count_values=Counter(words).keys() # equals to list(set(words))\n",
    "umi_count_values_count=Counter(words).values() # counts the elements' frequency\n",
    "\n",
    "print('done')"
   ]
  },
  {
   "cell_type": "code",
   "execution_count": 108,
   "metadata": {},
   "outputs": [],
   "source": [
    "##########\n",
    "#For 100000\n",
    "##########\n",
    "\n",
    "Sm_125_values=[1, 2, 3, 4, 5]\n",
    "Sm_125_count=[16429, 2464, 427, 51, 6]\n",
    "\n",
    "Sm_126_values=[1, 2, 3, 4, 5, 6, 7, 8, 9, 10]\n",
    "Sm_126_count=[5198, 1938, 1433, 871, 446, 195, 92, 29, 11, 5]\n",
    "\n",
    "Sm_127_values=[1, 2, 3, 4, 5, 6, 7, 8, 9, 10, 11, 12, 13, 14, 15, 16, 17, 18, 19, 20, 21, 22, 23, 24, 25, 26, 27, 29, 31, 34]\n",
    "Sm_127_count=[1768, 40, 23, 28, 39, 48, 53, 57, 73, 93, 81, 93, 107, 88, 96, 84, 66, 49, 47, 41, 15, 15, 13, 14, 6, 5, 3, 2, 2, 1]\n",
    "\n",
    "Sm_128_values=[1]\n",
    "Sm_128_count=[43]\n",
    "\n"
   ]
  },
  {
   "cell_type": "code",
   "execution_count": 115,
   "metadata": {},
   "outputs": [
    {
     "name": "stdout",
     "output_type": "stream",
     "text": [
      "dict_keys([1, 2, 3, 4, 5, 6, 7, 8, 9, 10, 11, 12, 13, 14, 15, 16, 17, 18, 19, 20, 21, 22, 23, 24, 25, 26, 27, 28, 29, 30, 31, 32, 33, 34, 35, 36, 37, 38, 39, 40, 41, 42, 43, 44, 45, 46, 47, 48, 49, 50, 51, 52, 53, 54, 55, 56, 57, 58, 59, 60, 61, 62, 63, 64, 65, 66, 67, 68, 69, 70, 71, 72, 73, 74, 75, 76, 77, 78, 79, 80, 81, 82, 83, 84, 86, 88, 89, 90, 91, 92, 93, 95, 96, 105, 106, 133])\n",
      "dict_values([6681, 195, 26, 16, 9, 4, 6, 5, 5, 4, 6, 5, 10, 5, 8, 4, 7, 1, 7, 6, 6, 6, 10, 5, 10, 9, 9, 9, 12, 14, 12, 10, 10, 11, 20, 17, 11, 14, 22, 17, 14, 14, 20, 28, 19, 34, 26, 31, 31, 27, 33, 26, 30, 42, 32, 27, 29, 33, 38, 39, 31, 36, 22, 29, 24, 34, 24, 19, 18, 9, 16, 18, 11, 13, 11, 11, 7, 4, 6, 6, 4, 4, 6, 1, 3, 1, 1, 2, 1, 2, 2, 1, 2, 1, 1, 1])\n"
     ]
    }
   ],
   "source": [
    "############\n",
    "#For 400000#\n",
    "############\n",
    "\n",
    "Sm_125_values=[1, 2, 3, 4, 5, 6, 7, 8, 9, 10]\n",
    "Sm_125_count=[32794, 10466, 5966, 2707, 977, 318, 102, 32, 6, 2]\n",
    "\n",
    "Sm_127_values=[1, 2, 3, 4, 5, 6, 7, 8, 9, 10, 11, 12, 13, 14, 15, 16, 17, 18, 19, 20, 21, 22, 23, 24, 25, 26, 27, 28, 29, 30, 31, 32, 33, 34, 35, 36, 37, 38, 39, 40, 41, 42, 43, 44, 45, 46, 47, 48, 49, 50, 51, 52, 53, 54, 55, 56, 57, 58, 59, 60, 61, 62, 63, 64, 65, 66, 67, 68, 69, 70, 71, 72, 73, 74, 75, 76, 77, 78, 79, 80, 81, 82, 83, 84, 86, 88, 89, 90, 91, 92, 93, 95, 96, 105, 106, 133]\n",
    "Sm_127_count=[6681, 195, 26, 16, 9, 4, 6, 5, 5, 4, 6, 5, 10, 5, 8, 4, 7, 1, 7, 6, 6, 6, 10, 5, 10, 9, 9, 9, 12, 14, 12, 10, 10, 11, 20, 17, 11, 14, 22, 17, 14, 14, 20, 28, 19, 34, 26, 31, 31, 27, 33, 26, 30, 42, 32, 27, 29, 33, 38, 39, 31, 36, 22, 29, 24, 34, 24, 19, 18, 9, 16, 18, 11, 13, 11, 11, 7, 4, 6, 6, 4, 4, 6, 1, 3, 1, 1, 2, 1, 2, 2, 1, 2, 1, 1, 1]\n",
    "\n",
    "print(umi_count_values)\n",
    "print(umi_count_values_count)"
   ]
  },
  {
   "cell_type": "code",
   "execution_count": 118,
   "metadata": {},
   "outputs": [
    {
     "data": {
      "image/png": "[encoded data removed]",
      "text/plain": [
       "<Figure size 720x720 with 1 Axes>"
      ]
     },
     "metadata": {},
     "output_type": "display_data"
    }
   ],
   "source": [
    "#plot the procent count\n",
    "\n",
    "\n",
    "#rna_from_sample_table\n",
    "#dna_from_string_table\n",
    "import matplotlib.pyplot as plt \n",
    "\n",
    "#plotcodoncount(codonnames,rna_from_sample_table,'title')\n",
    "\n",
    "wi=10\n",
    "hi=10\n",
    "\n",
    "width_in_inches = wi\n",
    "height_in_inches = hi\n",
    "#dots_per_inch = 70\n",
    "plt.figure(figsize=(width_in_inches, height_in_inches))#,dpi=dots_per_inch)  \n",
    "\n",
    "#plt.plot(umi_count_values,umi_count_values_count,'.', label = \"\")\n",
    "\n",
    "#plt.plot(Sm_125_values,Sm_125_count,'.', label = \"Sm_125\")\n",
    "#plt.plot(Sm_126_values,Sm_126_count,'.', label = \"Sm_126\")\n",
    "plt.plot(Sm_127_values[1:],Sm_127_count[1:],'.', label = \"Sm_127\")\n",
    "#plt.plot(Sm_128_values,Sm_128_count,'.', label = \"Sm_128\")\n",
    "\n",
    "#plt.plot(Sm_125_values,Sm_125_count, label = \"Sm_125\")\n",
    "#plt.plot(Sm_126_values,Sm_126_count, label = \"Sm_126\")\n",
    "#plt.plot(Sm_127_values,Sm_127_count, label = \"Sm_127\")\n",
    "#plt.plot(Sm_128_values,Sm_128_count,'.', label = \"Sm_128\")\n",
    "\n",
    "\n",
    "\n",
    "plt.style.use('seaborn-whitegrid')\n",
    "    # naming the x axis \n",
    "plt.xlabel('number of occurrence of UMI') \n",
    "    # naming the y axis \n",
    "plt.ylabel('UMI with such number of occurrence') \n",
    "    # giving a title to my graph \n",
    "plt.title('distribution of UMIs by the number of occurrence for Sm bacteria 400000 reads')\n",
    "degrees = 90\n",
    "plt.xticks(rotation=degrees)\n",
    "\n",
    "\n",
    "#plt.tight_layout()\n",
    "    # show a legend on the plot \n",
    "plt.legend() \n",
    "    # function to show the plot \n",
    "plt.show()\n",
    "#plt.savefig(\"out.png\")\n"
   ]
  },
  {
   "cell_type": "code",
   "execution_count": 51,
   "metadata": {},
   "outputs": [],
   "source": []
  },
  {
   "cell_type": "code",
   "execution_count": 53,
   "metadata": {},
   "outputs": [
    {
     "data": {
      "text/plain": [
       "True"
      ]
     },
     "execution_count": 53,
     "metadata": {},
     "output_type": "execute_result"
    }
   ],
   "source": []
  },
  {
   "cell_type": "code",
   "execution_count": 121,
   "metadata": {},
   "outputs": [
    {
     "data": {
      "text/plain": [
       "8199"
      ]
     },
     "execution_count": 121,
     "metadata": {},
     "output_type": "execute_result"
    }
   ],
   "source": [
    "sum([6681, 195, 26, 16, 9, 4, 6, 5, 5, 4, 6, 5, 10, 5, 8, 4, 7, 1, 7, 6, 6, 6, 10, 5, 10, 9, 9, 9, 12, 14, 12, 10, 10, 11, 20, 17, 11, 14, 22, 17, 14, 14, 20, 28, 19, 34, 26, 31, 31, 27, 33, 26, 30, 42, 32, 27, 29, 33, 38, 39, 31, 36, 22, 29, 24, 34, 24, 19, 18, 9, 16, 18, 11, 13, 11, 11, 7, 4, 6, 6, 4, 4, 6, 1, 3, 1, 1, 2, 1, 2, 2, 1, 2, 1, 1, 1])"
   ]
  },
  {
   "cell_type": "code",
   "execution_count": 120,
   "metadata": {},
   "outputs": [
    {
     "data": {
      "text/plain": [
       "0.6144650552744988"
      ]
     },
     "execution_count": 120,
     "metadata": {},
     "output_type": "execute_result"
    }
   ],
   "source": [
    "32794/53370"
   ]
  },
  {
   "cell_type": "code",
   "execution_count": 122,
   "metadata": {},
   "outputs": [
    {
     "data": {
      "text/plain": [
       "0.8148554701792902"
      ]
     },
     "execution_count": 122,
     "metadata": {},
     "output_type": "execute_result"
    }
   ],
   "source": [
    "6681/8199"
   ]
  },
  {
   "cell_type": "code",
   "execution_count": null,
   "metadata": {},
   "outputs": [],
   "source": []
  },
  {
   "cell_type": "code",
   "execution_count": 24,
   "metadata": {},
   "outputs": [],
   "source": [
    "def diff_count(str1,str2):\n",
    "    min_len=min(len(str1),len(str2))\n",
    "    diff=0\n",
    "    equal=0\n",
    "    for i in range(0, min_len):\n",
    "        if str1[i]!=str2[i]:\n",
    "            diff+=1\n",
    "        else:\n",
    "            equal+=1\n",
    "    return diff,equal\n",
    "\n",
    "    "
   ]
  },
  {
   "cell_type": "code",
   "execution_count": 26,
   "metadata": {},
   "outputs": [
    {
     "data": {
      "text/plain": [
       "(40, 133)"
      ]
     },
     "execution_count": 26,
     "metadata": {},
     "output_type": "execute_result"
    }
   ],
   "source": [
    "diff_count(Lf_1,Bc_1)"
   ]
  },
  {
   "cell_type": "code",
   "execution_count": 56,
   "metadata": {},
   "outputs": [
    {
     "data": {
      "text/plain": [
       "2"
      ]
     },
     "execution_count": 56,
     "metadata": {},
     "output_type": "execute_result"
    }
   ],
   "source": [
    "arra=['dd','ff','g']\n",
    "not 'dd' in arra\n",
    "arra.index('g')"
   ]
  },
  {
   "cell_type": "code",
   "execution_count": 67,
   "metadata": {},
   "outputs": [
    {
     "data": {
      "text/plain": [
       "43"
      ]
     },
     "execution_count": 67,
     "metadata": {},
     "output_type": "execute_result"
    }
   ],
   "source": [
    "len(Counter(good_umi_values).keys())"
   ]
  },
  {
   "cell_type": "code",
   "execution_count": null,
   "metadata": {},
   "outputs": [],
   "source": []
  }
 ],
 "metadata": {
  "kernelspec": {
   "display_name": "Python 3",
   "language": "python",
   "name": "python3"
  },
  "language_info": {
   "codemirror_mode": {
    "name": "ipython",
    "version": 3
   },
   "file_extension": ".py",
   "mimetype": "text/x-python",
   "name": "python",
   "nbconvert_exporter": "python",
   "pygments_lexer": "ipython3",
   "version": "3.7.3"
  }
 },
 "nbformat": 4,
 "nbformat_minor": 2
}
