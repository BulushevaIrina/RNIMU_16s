{
 "cells": [
  {
   "cell_type": "code",
   "execution_count": 1,
   "metadata": {},
   "outputs": [],
   "source": []
  },
  {
   "cell_type": "code",
   "execution_count": 71,
   "metadata": {},
   "outputs": [],
   "source": [
    "import csv\n",
    "import os\n",
    "import sys"
   ]
  },
  {
   "cell_type": "code",
   "execution_count": 72,
   "metadata": {},
   "outputs": [],
   "source": [
    "frequency_csv = '/home/irinab/Desktop/16s/36_run/36_run_125/feature-frequency_125.csv'\n",
    "sequence_fasta = '/home/irinab/Desktop/16s/36_run/36_run_125/feature_sequense_125.fasta'\n",
    "\n",
    "output_csv = '/home/irinab/Desktop/16s/36_run/36_run_125/feature_info_blast_125.csv'\n",
    "\n",
    "path='/home/irinab/Desktop/16s/36_run/36_run_125/'"
   ]
  },
  {
   "cell_type": "code",
   "execution_count": 73,
   "metadata": {},
   "outputs": [],
   "source": [
    "with open(frequency_csv) as f1, open(sequence_fasta) as f2:\n",
    "    content_frequency = f1.readlines()\n",
    "    content_sequence = f2.readlines()\n",
    "# you may also want to remove whitespace characters like `\\n` at the end of each line\n",
    "content_frequency = [x.strip() for x in content_frequency]\n",
    "content_sequence = [x.strip() for x in content_sequence]"
   ]
  },
  {
   "cell_type": "code",
   "execution_count": 69,
   "metadata": {},
   "outputs": [
    {
     "name": "stdout",
     "output_type": "stream",
     "text": [
      "start blast 0\n",
      "\n"
     ]
    }
   ],
   "source": [
    "col1_feature_name=[]\n",
    "col2_frequency=[]\n",
    "col6_sequence=[]\n",
    "col3_length=[]\n",
    "col5_blast=[]\n",
    "for i in range(0,1):#len(content_frequency)):\n",
    "    col1_feature_name.append(content_frequency[i].split(',')[0])\n",
    "    col2_frequency.append(int(content_frequency[i].split(',')[1].split('.')[0]))\n",
    "    col6_sequence.append(content_sequence[content_sequence.index('>'+str(col1_feature_name[i]))+1])\n",
    "    col3_length.append(len(col6_sequence[i]))\n",
    "    #print('start blast '+str(i))\n",
    "    #os.system('echo \">d\\n'+col6_sequence[i]+'\" > '+path+'fasta.fa')\n",
    "    #os.system('blastn -db nt -query '+path+'fasta.fa -out '+path+'align.txt -remote')\n",
    "    #os.system('grep -n \"Sequences producing significant alignments:\" '+path+'align.txt | cut -d : -f 1 | xargs -I{} awk \"NR >= {}+2 && NR <= {}+11\" ' +path+'align.txt > '+path+'aligncut.txt')\n",
    "    #with open(path+'aligncut.txt', 'r') as file:\n",
    "     #   col5_blast.append(file.read().replace('\\n', ''))\n",
    "      #  print(col5_blast[i])\n",
    "total_frequency=sum(col2_frequency)"
   ]
  },
  {
   "cell_type": "code",
   "execution_count": 70,
   "metadata": {},
   "outputs": [
    {
     "data": {
      "text/plain": [
       "'blastn -db nt -query /home/irinab/Desktop/16s/36_run/36_run_125/fasta.fa -out /home/irinab/Desktop/16s/36_run/36_run_125/align.txt -remote'"
      ]
     },
     "execution_count": 70,
     "metadata": {},
     "output_type": "execute_result"
    }
   ],
   "source": [
    "'blastn -db nt -query '+path+'fasta.fa -out '+path+'align.txt -remote'"
   ]
  },
  {
   "cell_type": "code",
   "execution_count": 55,
   "metadata": {},
   "outputs": [
    {
     "name": "stdout",
     "output_type": "stream",
     "text": [
      "done\n"
     ]
    }
   ],
   "source": [
    "with open(output_csv, 'w', newline='\\n') as file_output:\n",
    "    writer = csv.writer(file_output)\n",
    "    writer.writerow([\"feature name\", \"frequency\", \"length\",\"procent of total frequency\",\"blast top 3 results\",\"sequence\"])\n",
    "    for i in range(0,len(content_frequency)):\n",
    "        writer.writerow([col1_feature_name[i], col2_frequency[i], col3_length[i],col2_frequency[i]*100/total_frequency,'',col6_sequence[i]])#col5_blast[i],col6_sequence[i]])\n",
    "    \n",
    "print('done')"
   ]
  },
  {
   "cell_type": "code",
   "execution_count": 19,
   "metadata": {},
   "outputs": [
    {
     "data": {
      "text/plain": [
       "0"
      ]
     },
     "execution_count": 19,
     "metadata": {},
     "output_type": "execute_result"
    }
   ],
   "source": [
    "content_frequency[1]\n",
    "content_sequence[0]\n",
    "content_sequence.index('>76addc8524e10c6faff0161e36a1987a')"
   ]
  },
  {
   "cell_type": "code",
   "execution_count": 10,
   "metadata": {},
   "outputs": [],
   "source": [
    "with open(output_csv, 'w', newline='\\n') as file_output:\n",
    "    writer = csv.writer(file_output)\n",
    "    writer.writerow([\"SN\", \"Name\", \"Contribution\"])\n",
    "    writer.writerow([1, \"Linus Torvalds\", \"Linux Kernel\"])\n",
    "    writer.writerow([2, \"Tim Berners-Lee\", \"World Wide Web\"])\n",
    "    writer.writerow([3, \"Guido van Rossum\", \"Python Programming\"])"
   ]
  },
  {
   "cell_type": "code",
   "execution_count": 40,
   "metadata": {},
   "outputs": [
    {
     "data": {
      "text/plain": [
       "'echo -e \">d\\nCTGGAGGAGTTGGAGTTGGAAGATTTTTAAAATTTTCAACTTTTTTAAGGGGGTTCATGTCTGGTGGTCATGAACTATTTTGTGATTTTTTTAATATACTGCATTTTGAACTTCATAAAAACAAACTTGATATCTATTATACTACCTATCTAATACTAGATAGGAGCCG$1\" > fasta.fa'"
      ]
     },
     "execution_count": 40,
     "metadata": {},
     "output_type": "execute_result"
    }
   ],
   "source": [
    "'echo -e \">d\\n'+col6_sequence[i]+'$1\" > fasta.fa'"
   ]
  },
  {
   "cell_type": "code",
   "execution_count": 60,
   "metadata": {},
   "outputs": [
    {
     "data": {
      "text/plain": [
       "['', '', '', '', '', '', '']"
      ]
     },
     "execution_count": 60,
     "metadata": {},
     "output_type": "execute_result"
    }
   ],
   "source": [
    "col5_blast"
   ]
  },
  {
   "cell_type": "code",
   "execution_count": 59,
   "metadata": {},
   "outputs": [
    {
     "data": {
      "text/plain": [
       "'grep -n \"Sequences producing significant alignments:\" /home/irinab/Desktop/16s/36_run/36_run_125/align.txt | cut -d : -f 1 | xargs -I{} awk \"NR >= {}+2 && NR <= {}+11\" /home/irinab/Desktop/16s/36_run/36_run_125/align.txt > /home/irinab/Desktop/16s/36_run/36_run_125/aligncut.txt'"
      ]
     },
     "execution_count": 59,
     "metadata": {},
     "output_type": "execute_result"
    }
   ],
   "source": [
    "'grep -n \"Sequences producing significant alignments:\" '+path+'align.txt | cut -d : -f 1 | xargs -I{} awk \"NR >= {}+2 && NR <= {}+11\" ' +path+'align.txt > '+path+'aligncut.txt'"
   ]
  },
  {
   "cell_type": "code",
   "execution_count": null,
   "metadata": {},
   "outputs": [],
   "source": []
  }
 ],
 "metadata": {
  "kernelspec": {
   "display_name": "Python 3",
   "language": "python",
   "name": "python3"
  },
  "language_info": {
   "codemirror_mode": {
    "name": "ipython",
    "version": 3
   },
   "file_extension": ".py",
   "mimetype": "text/x-python",
   "name": "python",
   "nbconvert_exporter": "python",
   "pygments_lexer": "ipython3",
   "version": "3.7.3"
  }
 },
 "nbformat": 4,
 "nbformat_minor": 2
}
